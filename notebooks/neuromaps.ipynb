{
 "cells": [
  {
   "cell_type": "code",
   "execution_count": 3,
   "metadata": {},
   "outputs": [],
   "source": [
    "%load_ext autoreload\n",
    "%autoreload 2\n",
    "\n",
    "import sys\n",
    "import neuromaps\n",
    "sys.path.insert(1, '../')\n",
    "NEUROMAPS_DIR = '/home/ftian/storage/projects/MFM_exploration/data/neuromaps'"
   ]
  },
  {
   "cell_type": "code",
   "execution_count": 4,
   "metadata": {},
   "outputs": [],
   "source": [
    "from neuromaps.datasets import fetch_atlas"
   ]
  },
  {
   "cell_type": "code",
   "execution_count": 7,
   "metadata": {},
   "outputs": [
    {
     "name": "stdout",
     "output_type": "stream",
     "text": [
      "Downloading data from https://files.osf.io/v1/resources/4mw3a/providers/osfstorage/61eaf5091986f00160e3bd69 ...\n"
     ]
    },
    {
     "name": "stderr",
     "output_type": "stream",
     "text": [
      "Downloaded 63840256 of 69771928 bytes (91.5%,    0.5s remaining) ...done. (8 seconds, 0 min)\n",
      "Extracting data from /home/ftian/storage/projects/MFM_exploration/data/neuromaps/12583527ffc9c2c8369ca015414a1b8c/MNI1521mm.tar.gz..."
     ]
    },
    {
     "name": "stdout",
     "output_type": "stream",
     "text": [
      "['2009cAsym_CSF', '2009cAsym_GM', '2009cAsym_PD', '2009cAsym_T1w', '2009cAsym_T2w', '2009cAsym_WM', '2009cAsym_brainmask', '6Asym_T1w', '6Asym_brainmask']\n"
     ]
    },
    {
     "name": "stderr",
     "output_type": "stream",
     "text": [
      ".. done.\n"
     ]
    }
   ],
   "source": [
    "mni152 = fetch_atlas('MNI152', '1mm', data_dir=NEUROMAPS_DIR)\n",
    "print(sorted(mni152))"
   ]
  },
  {
   "cell_type": "code",
   "execution_count": 8,
   "metadata": {},
   "outputs": [
    {
     "name": "stdout",
     "output_type": "stream",
     "text": [
      "Downloading data from https://files.osf.io/v1/resources/4mw3a/providers/osfstorage/60b684b53a6df1021bd4df2d ...\n"
     ]
    },
    {
     "name": "stderr",
     "output_type": "stream",
     "text": [
      "Downloaded 458752 of 5482474 bytes (8.4%,   11.0s remaining) ...done. (5 seconds, 0 min)\n",
      "Extracting data from /home/ftian/storage/projects/MFM_exploration/data/neuromaps/599046a594e0e45c04e90291c2348cbe/fsLR32k.tar.gz..."
     ]
    },
    {
     "name": "stdout",
     "output_type": "stream",
     "text": [
      "['inflated', 'medial', 'midthickness', 'sphere', 'sulc', 'vaavg', 'veryinflated']\n"
     ]
    },
    {
     "name": "stderr",
     "output_type": "stream",
     "text": [
      ".. done.\n"
     ]
    }
   ],
   "source": [
    "fslr = fetch_atlas('fsLR', '32k', data_dir=NEUROMAPS_DIR)\n",
    "print(sorted(fslr))"
   ]
  },
  {
   "cell_type": "code",
   "execution_count": 7,
   "metadata": {},
   "outputs": [
    {
     "name": "stdout",
     "output_type": "stream",
     "text": [
      "32492\n"
     ]
    }
   ],
   "source": [
    "import nibabel as nib\n",
    "\n",
    "fslr_left_infl = nib.load(fslr['inflated'].L)\n",
    "vertices = fslr_left_infl.agg_data('NIFTI_INTENT_POINTSET')\n",
    "print(vertices.shape[0])"
   ]
  },
  {
   "cell_type": "code",
   "execution_count": 21,
   "metadata": {},
   "outputs": [
    {
     "name": "stdout",
     "output_type": "stream",
     "text": [
      "<class 'nibabel.gifti.gifti.GiftiImage'>\n"
     ]
    }
   ],
   "source": [
    "print(type(fslr_left_infl))"
   ]
  },
  {
   "cell_type": "code",
   "execution_count": 23,
   "metadata": {},
   "outputs": [
    {
     "name": "stdout",
     "output_type": "stream",
     "text": [
      "('abagen', 'genepc1', 'fsaverage', '10k')\n",
      "('aghourian2017', 'feobv', 'MNI152', '1mm')\n",
      "('alarkurtti2015', 'raclopride', 'MNI152', '3mm')\n",
      "('bedard2019', 'feobv', 'MNI152', '1mm')\n",
      "('beliveau2017', 'az10419369', 'MNI152', '1mm')\n",
      "('beliveau2017', 'az10419369', 'fsaverage', '164k')\n",
      "('beliveau2017', 'cimbi36', 'MNI152', '1mm')\n",
      "('beliveau2017', 'cimbi36', 'fsaverage', '164k')\n",
      "('beliveau2017', 'cumi101', 'MNI152', '1mm')\n",
      "('beliveau2017', 'cumi101', 'fsaverage', '164k')\n",
      "('beliveau2017', 'dasb', 'MNI152', '1mm')\n",
      "('beliveau2017', 'dasb', 'fsaverage', '164k')\n",
      "('beliveau2017', 'sb207145', 'MNI152', '1mm')\n",
      "('beliveau2017', 'sb207145', 'fsaverage', '164k')\n",
      "('ding2010', 'mrb', 'MNI152', '1mm')\n",
      "('dubois2015', 'abp688', 'MNI152', '1mm')\n",
      "('dukart2018', 'flumazenil', 'MNI152', '3mm')\n",
      "('dukart2018', 'fpcit', 'MNI152', '3mm')\n",
      "('fazio2016', 'madam', 'MNI152', '3mm')\n",
      "('finnema2016', 'ucbj', 'MNI152', '1mm')\n",
      "('gallezot2010', 'p943', 'MNI152', '1mm')\n",
      "('gallezot2017', 'gsk189254', 'MNI152', '1mm')\n",
      "('hcps1200', 'megalpha', 'fsLR', '4k')\n",
      "('hcps1200', 'megbeta', 'fsLR', '4k')\n",
      "('hcps1200', 'megdelta', 'fsLR', '4k')\n",
      "('hcps1200', 'meggamma1', 'fsLR', '4k')\n",
      "('hcps1200', 'meggamma2', 'fsLR', '4k')\n",
      "('hcps1200', 'megtheta', 'fsLR', '4k')\n",
      "('hcps1200', 'megtimescale', 'fsLR', '4k')\n",
      "('hcps1200', 'myelinmap', 'fsLR', '32k')\n",
      "('hcps1200', 'thickness', 'fsLR', '32k')\n",
      "('hesse2017', 'methylreboxetine', 'MNI152', '3mm')\n",
      "('hill2010', 'devexp', 'fsLR', '164k')\n",
      "('hill2010', 'evoexp', 'fsLR', '164k')\n",
      "('hillmer2016', 'flubatine', 'MNI152', '1mm')\n",
      "('jaworska2020', 'fallypride', 'MNI152', '1mm')\n",
      "('kaller2017', 'sch23390', 'MNI152', '3mm')\n",
      "('kantonen2020', 'carfentanil', 'MNI152', '3mm')\n",
      "('laurikainen2018', 'fmpepd2', 'MNI152', '1mm')\n",
      "('margulies2016', 'fcgradient01', 'fsLR', '32k')\n",
      "('margulies2016', 'fcgradient02', 'fsLR', '32k')\n",
      "('margulies2016', 'fcgradient03', 'fsLR', '32k')\n",
      "('margulies2016', 'fcgradient04', 'fsLR', '32k')\n",
      "('margulies2016', 'fcgradient05', 'fsLR', '32k')\n",
      "('margulies2016', 'fcgradient06', 'fsLR', '32k')\n",
      "('margulies2016', 'fcgradient07', 'fsLR', '32k')\n",
      "('margulies2016', 'fcgradient08', 'fsLR', '32k')\n",
      "('margulies2016', 'fcgradient09', 'fsLR', '32k')\n",
      "('margulies2016', 'fcgradient10', 'fsLR', '32k')\n",
      "('mueller2013', 'intersubjvar', 'fsLR', '164k')\n",
      "('naganawa2020', 'lsn3172176', 'MNI152', '1mm')\n",
      "('neurosynth', 'cogpc1', 'MNI152', '2mm')\n",
      "('norgaard2021', 'flumazenil', 'MNI152', '1mm')\n",
      "('norgaard2021', 'flumazenil', 'fsaverage', '164k')\n",
      "('normandin2015', 'omar', 'MNI152', '1mm')\n",
      "('radnakrishnan2018', 'gsk215083', 'MNI152', '1mm')\n",
      "('raichle', 'cbf', 'fsLR', '164k')\n",
      "('raichle', 'cbv', 'fsLR', '164k')\n",
      "('raichle', 'cmr02', 'fsLR', '164k')\n",
      "('raichle', 'cmrglc', 'fsLR', '164k')\n",
      "('reardon2018', 'scalinghcp', 'civet', '41k')\n",
      "('reardon2018', 'scalingnih', 'civet', '41k')\n",
      "('reardon2018', 'scalingpnc', 'civet', '41k')\n",
      "('rosaneto', 'abp688', 'MNI152', '1mm')\n",
      "('sandiego2015', 'flb457', 'MNI152', '1mm')\n",
      "('sasaki2012', 'fepe2i', 'MNI152', '1mm')\n",
      "('satterthwaite2014', 'meancbf', 'MNI152', '1mm')\n",
      "('savli2012', 'altanserin', 'MNI152', '3mm')\n",
      "('savli2012', 'dasb', 'MNI152', '3mm')\n",
      "('savli2012', 'p943', 'MNI152', '3mm')\n",
      "('savli2012', 'way100635', 'MNI152', '3mm')\n",
      "('smart2019', 'abp688', 'MNI152', '1mm')\n",
      "('smith2017', 'flb457', 'MNI152', '1mm')\n",
      "('sydnor2021', 'SAaxis', 'fsLR', '32k')\n",
      "('tuominen', 'feobv', 'MNI152', '2mm')\n",
      "('turtonen2020', 'carfentanil', 'MNI152', '1mm')\n",
      "('vijay2018', 'ly2795050', 'MNI152', '2mm')\n",
      "('xu2020', 'FChomology', 'fsLR', '32k')\n",
      "('xu2020', 'evoexp', 'fsLR', '32k')\n",
      "<class 'tuple'>\n"
     ]
    }
   ],
   "source": [
    "from neuromaps.datasets import available_annotations\n",
    "for annotation in available_annotations():\n",
    "    print(annotation)\n",
    "print(type(annotation))"
   ]
  },
  {
   "cell_type": "code",
   "execution_count": 24,
   "metadata": {},
   "outputs": [
    {
     "name": "stdout",
     "output_type": "stream",
     "text": [
      "['ASL', 'MEG', 'MRI', 'PET', 'fMRI', 'functional', 'genetics', 'meta-analysis', 'metabolism', 'receptors', 'structural']\n"
     ]
    }
   ],
   "source": [
    "from neuromaps.datasets import available_tags\n",
    "print(available_tags())"
   ]
  },
  {
   "cell_type": "code",
   "execution_count": 5,
   "metadata": {},
   "outputs": [
    {
     "name": "stdout",
     "output_type": "stream",
     "text": [
      "Index(['annotation', 'description', 'tags', 'N (males)', 'age (years)',\n",
      "       'primary reference(s)', 'secondary reference(s)'],\n",
      "      dtype='object')\n",
      "73\n",
      "[\"('abagen', 'genepc1', 'fsaverage', '10k')\", \"('aghourian2017', 'feobv', 'MNI152', '1mm')\", \"('alarkurtti2015', 'raclopride', 'MNI152', '3mm')\", \"('bedard2019', 'feobv', 'MNI152', '1mm')\", \"('beliveau2017', 'az10419369', 'fsaverage', '164k')\"]\n"
     ]
    }
   ],
   "source": [
    "# Read and extract the annotation from the first column of used_neuromaps_info.csv file under NEUROMAPS_SRC_DIR\n",
    "import pandas as pd\n",
    "import os\n",
    "from src.basic.constants import NEUROMAPS_SRC_DIR\n",
    "used_neuromaps_info = pd.read_csv(os.path.join(NEUROMAPS_SRC_DIR, 'used_neuromaps_info.csv'))\n",
    "print(used_neuromaps_info.columns)\n",
    "all_annotations = used_neuromaps_info['annotation'].to_list()\n",
    "print(len(all_annotations))\n",
    "print(all_annotations[:5])"
   ]
  },
  {
   "cell_type": "code",
   "execution_count": 6,
   "metadata": {},
   "outputs": [
    {
     "name": "stdout",
     "output_type": "stream",
     "text": [
      "<class 'dict'>\n"
     ]
    },
    {
     "name": "stderr",
     "output_type": "stream",
     "text": [
      "/tmp/ipykernel_242484/1953608293.py:2: UserWarning: Data from beliveau2017 and norgaard2021 is best used in the provided fsaverage space (e.g. source='beliveau2017', space='fsaverage', den='164k'). MNI152 maps should only be used for subcortical data.\n",
      "  annotation = fetch_annotation(source='all', data_dir=NEUROMAPS_DIR)\n"
     ]
    }
   ],
   "source": [
    "from neuromaps.datasets import fetch_annotation\n",
    "annotation = fetch_annotation(source='all', data_dir=NEUROMAPS_DIR)\n",
    "print(type(annotation))"
   ]
  },
  {
   "cell_type": "code",
   "execution_count": null,
   "metadata": {},
   "outputs": [],
   "source": [
    "from neuromaps import transforms\n",
    "fslr = transforms.mni152_to_fslr(annotation, '32k')"
   ]
  },
  {
   "cell_type": "code",
   "execution_count": 9,
   "metadata": {},
   "outputs": [
    {
     "name": "stdout",
     "output_type": "stream",
     "text": [
      "Downloading data from https://files.osf.io/v1/resources/4mw3a/providers/osfstorage/60b684ab9096b7021b63cf6b ...\n"
     ]
    },
    {
     "name": "stderr",
     "output_type": "stream",
     "text": [
      "Downloaded 442368 of 1655212 bytes (26.7%,    2.7s remaining) ...done. (10 seconds, 0 min)\n",
      "Extracting data from /home/ftian/neuromaps-data/e38b96d96273aa064c22296eda1e5688/fsaverage10k.tar.gz..... done.\n"
     ]
    }
   ],
   "source": [
    "from neuromaps import transforms\n",
    "abagen = fetch_annotation(source='abagen', data_dir=NEUROMAPS_DIR)\n",
    "fslr = transforms.fsaverage_to_fslr(abagen, '32k')"
   ]
  },
  {
   "cell_type": "code",
   "execution_count": 10,
   "metadata": {},
   "outputs": [],
   "source": [
    "fslr_lh, fslr_rh = fslr"
   ]
  },
  {
   "cell_type": "code",
   "execution_count": 13,
   "metadata": {},
   "outputs": [
    {
     "name": "stdout",
     "output_type": "stream",
     "text": [
      "('abagen', 'genepc1', 'fsaverage', '10k') ['/home/ftian/storage/projects/MFM_exploration/data/neuromaps/annotations/abagen/genepc1/fsaverage/source-abagen_desc-genepc1_space-fsaverage_den-10k_hemi-L_feature.func.gii', '/home/ftian/storage/projects/MFM_exploration/data/neuromaps/annotations/abagen/genepc1/fsaverage/source-abagen_desc-genepc1_space-fsaverage_den-10k_hemi-R_feature.func.gii']\n",
      "('aghourian2017', 'feobv', 'MNI152', '1mm') /home/ftian/storage/projects/MFM_exploration/data/neuromaps/annotations/aghourian2017/feobv/MNI152/source-aghourian2017_desc-feobv_space-MNI152_res-1mm_feature.nii.gz\n",
      "('alarkurtti2015', 'raclopride', 'MNI152', '3mm') /home/ftian/storage/projects/MFM_exploration/data/neuromaps/annotations/alarkurtti2015/raclopride/MNI152/source-alarkurtti2015_desc-raclopride_space-MNI152_res-3mm_feature.nii.gz\n",
      "('bedard2019', 'feobv', 'MNI152', '1mm') /home/ftian/storage/projects/MFM_exploration/data/neuromaps/annotations/bedard2019/feobv/MNI152/source-bedard2019_desc-feobv_space-MNI152_res-1mm_feature.nii.gz\n",
      "('beliveau2017', 'az10419369', 'MNI152', '1mm') /home/ftian/storage/projects/MFM_exploration/data/neuromaps/annotations/beliveau2017/az10419369/MNI152/source-beliveau2017_desc-az10419369_space-MNI152_res-1mm_feature.nii.gz\n",
      "('beliveau2017', 'az10419369', 'fsaverage', '164k') ['/home/ftian/storage/projects/MFM_exploration/data/neuromaps/annotations/beliveau2017/az10419369/fsaverage/source-beliveau2017_desc-az10419369_space-fsaverage_den-164k_hemi-L_feature.func.gii', '/home/ftian/storage/projects/MFM_exploration/data/neuromaps/annotations/beliveau2017/az10419369/fsaverage/source-beliveau2017_desc-az10419369_space-fsaverage_den-164k_hemi-R_feature.func.gii']\n",
      "('beliveau2017', 'cimbi36', 'MNI152', '1mm') /home/ftian/storage/projects/MFM_exploration/data/neuromaps/annotations/beliveau2017/cimbi36/MNI152/source-beliveau2017_desc-cimbi36_space-MNI152_res-1mm_feature.nii.gz\n",
      "('beliveau2017', 'cimbi36', 'fsaverage', '164k') ['/home/ftian/storage/projects/MFM_exploration/data/neuromaps/annotations/beliveau2017/cimbi36/fsaverage/source-beliveau2017_desc-cimbi36_space-fsaverage_den-164k_hemi-L_feature.func.gii', '/home/ftian/storage/projects/MFM_exploration/data/neuromaps/annotations/beliveau2017/cimbi36/fsaverage/source-beliveau2017_desc-cimbi36_space-fsaverage_den-164k_hemi-R_feature.func.gii']\n",
      "('beliveau2017', 'cumi101', 'MNI152', '1mm') /home/ftian/storage/projects/MFM_exploration/data/neuromaps/annotations/beliveau2017/cumi101/MNI152/source-beliveau2017_desc-cumi101_space-MNI152_res-1mm_feature.nii.gz\n",
      "('beliveau2017', 'cumi101', 'fsaverage', '164k') ['/home/ftian/storage/projects/MFM_exploration/data/neuromaps/annotations/beliveau2017/cumi101/fsaverage/source-beliveau2017_desc-cumi101_space-fsaverage_den-164k_hemi-L_feature.func.gii', '/home/ftian/storage/projects/MFM_exploration/data/neuromaps/annotations/beliveau2017/cumi101/fsaverage/source-beliveau2017_desc-cumi101_space-fsaverage_den-164k_hemi-R_feature.func.gii']\n",
      "('beliveau2017', 'dasb', 'MNI152', '1mm') /home/ftian/storage/projects/MFM_exploration/data/neuromaps/annotations/beliveau2017/dasb/MNI152/source-beliveau2017_desc-dasb_space-MNI152_res-1mm_feature.nii.gz\n",
      "('beliveau2017', 'dasb', 'fsaverage', '164k') ['/home/ftian/storage/projects/MFM_exploration/data/neuromaps/annotations/beliveau2017/dasb/fsaverage/source-beliveau2017_desc-dasb_space-fsaverage_den-164k_hemi-L_feature.func.gii', '/home/ftian/storage/projects/MFM_exploration/data/neuromaps/annotations/beliveau2017/dasb/fsaverage/source-beliveau2017_desc-dasb_space-fsaverage_den-164k_hemi-R_feature.func.gii']\n",
      "('beliveau2017', 'sb207145', 'MNI152', '1mm') /home/ftian/storage/projects/MFM_exploration/data/neuromaps/annotations/beliveau2017/sb207145/MNI152/source-beliveau2017_desc-sb207145_space-MNI152_res-1mm_feature.nii.gz\n",
      "('beliveau2017', 'sb207145', 'fsaverage', '164k') ['/home/ftian/storage/projects/MFM_exploration/data/neuromaps/annotations/beliveau2017/sb207145/fsaverage/source-beliveau2017_desc-sb207145_space-fsaverage_den-164k_hemi-L_feature.func.gii', '/home/ftian/storage/projects/MFM_exploration/data/neuromaps/annotations/beliveau2017/sb207145/fsaverage/source-beliveau2017_desc-sb207145_space-fsaverage_den-164k_hemi-R_feature.func.gii']\n",
      "('ding2010', 'mrb', 'MNI152', '1mm') /home/ftian/storage/projects/MFM_exploration/data/neuromaps/annotations/ding2010/mrb/MNI152/source-ding2010_desc-mrb_space-MNI152_res-1mm_feature.nii.gz\n",
      "('dubois2015', 'abp688', 'MNI152', '1mm') /home/ftian/storage/projects/MFM_exploration/data/neuromaps/annotations/dubois2015/abp688/MNI152/source-dubois2015_desc-abp688_space-MNI152_res-1mm_feature.nii.gz\n",
      "('dukart2018', 'flumazenil', 'MNI152', '3mm') /home/ftian/storage/projects/MFM_exploration/data/neuromaps/annotations/dukart2018/flumazenil/MNI152/source-dukart2018_desc-flumazenil_space-MNI152_res-3mm_feature.nii.gz\n",
      "('dukart2018', 'fpcit', 'MNI152', '3mm') /home/ftian/storage/projects/MFM_exploration/data/neuromaps/annotations/dukart2018/fpcit/MNI152/source-dukart2018_desc-fpcit_space-MNI152_res-3mm_feature.nii.gz\n",
      "('fazio2016', 'madam', 'MNI152', '3mm') /home/ftian/storage/projects/MFM_exploration/data/neuromaps/annotations/fazio2016/madam/MNI152/source-fazio2016_desc-madam_space-MNI152_res-3mm_feature.nii.gz\n",
      "('finnema2016', 'ucbj', 'MNI152', '1mm') /home/ftian/storage/projects/MFM_exploration/data/neuromaps/annotations/finnema2016/ucbj/MNI152/source-finnema2016_desc-ucbj_space-MNI152_res-1mm_feature.nii.gz\n",
      "('gallezot2010', 'p943', 'MNI152', '1mm') /home/ftian/storage/projects/MFM_exploration/data/neuromaps/annotations/gallezot2010/p943/MNI152/source-gallezot2010_desc-p943_space-MNI152_res-1mm_feature.nii.gz\n",
      "('gallezot2017', 'gsk189254', 'MNI152', '1mm') /home/ftian/storage/projects/MFM_exploration/data/neuromaps/annotations/gallezot2017/gsk189254/MNI152/source-gallezot2017_desc-gsk189254_space-MNI152_res-1mm_feature.nii.gz\n",
      "('hcps1200', 'megalpha', 'fsLR', '4k') ['/home/ftian/storage/projects/MFM_exploration/data/neuromaps/annotations/hcps1200/megalpha/fsLR/source-hcps1200_desc-megalpha_space-fsLR_den-4k_hemi-L_feature.func.gii', '/home/ftian/storage/projects/MFM_exploration/data/neuromaps/annotations/hcps1200/megalpha/fsLR/source-hcps1200_desc-megalpha_space-fsLR_den-4k_hemi-R_feature.func.gii']\n",
      "('hcps1200', 'megbeta', 'fsLR', '4k') ['/home/ftian/storage/projects/MFM_exploration/data/neuromaps/annotations/hcps1200/megbeta/fsLR/source-hcps1200_desc-megbeta_space-fsLR_den-4k_hemi-L_feature.func.gii', '/home/ftian/storage/projects/MFM_exploration/data/neuromaps/annotations/hcps1200/megbeta/fsLR/source-hcps1200_desc-megbeta_space-fsLR_den-4k_hemi-R_feature.func.gii']\n",
      "('hcps1200', 'megdelta', 'fsLR', '4k') ['/home/ftian/storage/projects/MFM_exploration/data/neuromaps/annotations/hcps1200/megdelta/fsLR/source-hcps1200_desc-megdelta_space-fsLR_den-4k_hemi-L_feature.func.gii', '/home/ftian/storage/projects/MFM_exploration/data/neuromaps/annotations/hcps1200/megdelta/fsLR/source-hcps1200_desc-megdelta_space-fsLR_den-4k_hemi-R_feature.func.gii']\n",
      "('hcps1200', 'meggamma1', 'fsLR', '4k') ['/home/ftian/storage/projects/MFM_exploration/data/neuromaps/annotations/hcps1200/meggamma1/fsLR/source-hcps1200_desc-meggamma1_space-fsLR_den-4k_hemi-L_feature.func.gii', '/home/ftian/storage/projects/MFM_exploration/data/neuromaps/annotations/hcps1200/meggamma1/fsLR/source-hcps1200_desc-meggamma1_space-fsLR_den-4k_hemi-R_feature.func.gii']\n",
      "('hcps1200', 'meggamma2', 'fsLR', '4k') ['/home/ftian/storage/projects/MFM_exploration/data/neuromaps/annotations/hcps1200/meggamma2/fsLR/source-hcps1200_desc-meggamma2_space-fsLR_den-4k_hemi-L_feature.func.gii', '/home/ftian/storage/projects/MFM_exploration/data/neuromaps/annotations/hcps1200/meggamma2/fsLR/source-hcps1200_desc-meggamma2_space-fsLR_den-4k_hemi-R_feature.func.gii']\n",
      "('hcps1200', 'megtheta', 'fsLR', '4k') ['/home/ftian/storage/projects/MFM_exploration/data/neuromaps/annotations/hcps1200/megtheta/fsLR/source-hcps1200_desc-megtheta_space-fsLR_den-4k_hemi-L_feature.func.gii', '/home/ftian/storage/projects/MFM_exploration/data/neuromaps/annotations/hcps1200/megtheta/fsLR/source-hcps1200_desc-megtheta_space-fsLR_den-4k_hemi-R_feature.func.gii']\n",
      "('hcps1200', 'megtimescale', 'fsLR', '4k') ['/home/ftian/storage/projects/MFM_exploration/data/neuromaps/annotations/hcps1200/megtimescale/fsLR/source-hcps1200_desc-megtimescale_space-fsLR_den-4k_hemi-L_feature.func.gii', '/home/ftian/storage/projects/MFM_exploration/data/neuromaps/annotations/hcps1200/megtimescale/fsLR/source-hcps1200_desc-megtimescale_space-fsLR_den-4k_hemi-R_feature.func.gii']\n",
      "('hcps1200', 'myelinmap', 'fsLR', '32k') ['/home/ftian/storage/projects/MFM_exploration/data/neuromaps/annotations/hcps1200/myelinmap/fsLR/source-hcps1200_desc-myelinmap_space-fsLR_den-32k_hemi-L_feature.func.gii', '/home/ftian/storage/projects/MFM_exploration/data/neuromaps/annotations/hcps1200/myelinmap/fsLR/source-hcps1200_desc-myelinmap_space-fsLR_den-32k_hemi-R_feature.func.gii']\n",
      "('hcps1200', 'thickness', 'fsLR', '32k') ['/home/ftian/storage/projects/MFM_exploration/data/neuromaps/annotations/hcps1200/thickness/fsLR/source-hcps1200_desc-thickness_space-fsLR_den-32k_hemi-L_feature.func.gii', '/home/ftian/storage/projects/MFM_exploration/data/neuromaps/annotations/hcps1200/thickness/fsLR/source-hcps1200_desc-thickness_space-fsLR_den-32k_hemi-R_feature.func.gii']\n",
      "('hesse2017', 'methylreboxetine', 'MNI152', '3mm') /home/ftian/storage/projects/MFM_exploration/data/neuromaps/annotations/hesse2017/methylreboxetine/MNI152/source-hesse2017_desc-methylreboxetine_space-MNI152_res-3mm_feature.nii.gz\n",
      "('hill2010', 'devexp', 'fsLR', '164k') /home/ftian/storage/projects/MFM_exploration/data/neuromaps/annotations/hill2010/devexp/fsLR/source-hill2010_desc-devexp_space-fsLR_den-164k_hemi-R_feature.func.gii\n",
      "('hill2010', 'evoexp', 'fsLR', '164k') /home/ftian/storage/projects/MFM_exploration/data/neuromaps/annotations/hill2010/evoexp/fsLR/source-hill2010_desc-evoexp_space-fsLR_den-164k_hemi-R_feature.func.gii\n",
      "('hillmer2016', 'flubatine', 'MNI152', '1mm') /home/ftian/storage/projects/MFM_exploration/data/neuromaps/annotations/hillmer2016/flubatine/MNI152/source-hillmer2016_desc-flubatine_space-MNI152_res-1mm_feature.nii.gz\n",
      "('jaworska2020', 'fallypride', 'MNI152', '1mm') /home/ftian/storage/projects/MFM_exploration/data/neuromaps/annotations/jaworska2020/fallypride/MNI152/source-jaworska2020_desc-fallypride_space-MNI152_res-1mm_feature.nii.gz\n",
      "('kaller2017', 'sch23390', 'MNI152', '3mm') /home/ftian/storage/projects/MFM_exploration/data/neuromaps/annotations/kaller2017/sch23390/MNI152/source-kaller2017_desc-sch23390_space-MNI152_res-3mm_feature.nii.gz\n",
      "('kantonen2020', 'carfentanil', 'MNI152', '3mm') /home/ftian/storage/projects/MFM_exploration/data/neuromaps/annotations/kantonen2020/carfentanil/MNI152/source-kantonen2020_desc-carfentanil_space-MNI152_res-3mm_feature.nii.gz\n",
      "('laurikainen2018', 'fmpepd2', 'MNI152', '1mm') /home/ftian/storage/projects/MFM_exploration/data/neuromaps/annotations/laurikainen2018/fmpepd2/MNI152/source-laurikainen2018_desc-fmpepd2_space-MNI152_res-1mm_feature.nii.gz\n",
      "('margulies2016', 'fcgradient01', 'fsLR', '32k') ['/home/ftian/storage/projects/MFM_exploration/data/neuromaps/annotations/margulies2016/fcgradient01/fsLR/source-margulies2016_desc-fcgradient01_space-fsLR_den-32k_hemi-L_feature.func.gii', '/home/ftian/storage/projects/MFM_exploration/data/neuromaps/annotations/margulies2016/fcgradient01/fsLR/source-margulies2016_desc-fcgradient01_space-fsLR_den-32k_hemi-R_feature.func.gii']\n",
      "('margulies2016', 'fcgradient02', 'fsLR', '32k') ['/home/ftian/storage/projects/MFM_exploration/data/neuromaps/annotations/margulies2016/fcgradient02/fsLR/source-margulies2016_desc-fcgradient02_space-fsLR_den-32k_hemi-L_feature.func.gii', '/home/ftian/storage/projects/MFM_exploration/data/neuromaps/annotations/margulies2016/fcgradient02/fsLR/source-margulies2016_desc-fcgradient02_space-fsLR_den-32k_hemi-R_feature.func.gii']\n",
      "('margulies2016', 'fcgradient03', 'fsLR', '32k') ['/home/ftian/storage/projects/MFM_exploration/data/neuromaps/annotations/margulies2016/fcgradient03/fsLR/source-margulies2016_desc-fcgradient03_space-fsLR_den-32k_hemi-L_feature.func.gii', '/home/ftian/storage/projects/MFM_exploration/data/neuromaps/annotations/margulies2016/fcgradient03/fsLR/source-margulies2016_desc-fcgradient03_space-fsLR_den-32k_hemi-R_feature.func.gii']\n",
      "('margulies2016', 'fcgradient04', 'fsLR', '32k') ['/home/ftian/storage/projects/MFM_exploration/data/neuromaps/annotations/margulies2016/fcgradient04/fsLR/source-margulies2016_desc-fcgradient04_space-fsLR_den-32k_hemi-L_feature.func.gii', '/home/ftian/storage/projects/MFM_exploration/data/neuromaps/annotations/margulies2016/fcgradient04/fsLR/source-margulies2016_desc-fcgradient04_space-fsLR_den-32k_hemi-R_feature.func.gii']\n",
      "('margulies2016', 'fcgradient05', 'fsLR', '32k') ['/home/ftian/storage/projects/MFM_exploration/data/neuromaps/annotations/margulies2016/fcgradient05/fsLR/source-margulies2016_desc-fcgradient05_space-fsLR_den-32k_hemi-L_feature.func.gii', '/home/ftian/storage/projects/MFM_exploration/data/neuromaps/annotations/margulies2016/fcgradient05/fsLR/source-margulies2016_desc-fcgradient05_space-fsLR_den-32k_hemi-R_feature.func.gii']\n",
      "('margulies2016', 'fcgradient06', 'fsLR', '32k') ['/home/ftian/storage/projects/MFM_exploration/data/neuromaps/annotations/margulies2016/fcgradient06/fsLR/source-margulies2016_desc-fcgradient06_space-fsLR_den-32k_hemi-L_feature.func.gii', '/home/ftian/storage/projects/MFM_exploration/data/neuromaps/annotations/margulies2016/fcgradient06/fsLR/source-margulies2016_desc-fcgradient06_space-fsLR_den-32k_hemi-R_feature.func.gii']\n",
      "('margulies2016', 'fcgradient07', 'fsLR', '32k') ['/home/ftian/storage/projects/MFM_exploration/data/neuromaps/annotations/margulies2016/fcgradient07/fsLR/source-margulies2016_desc-fcgradient07_space-fsLR_den-32k_hemi-L_feature.func.gii', '/home/ftian/storage/projects/MFM_exploration/data/neuromaps/annotations/margulies2016/fcgradient07/fsLR/source-margulies2016_desc-fcgradient07_space-fsLR_den-32k_hemi-R_feature.func.gii']\n",
      "('margulies2016', 'fcgradient08', 'fsLR', '32k') ['/home/ftian/storage/projects/MFM_exploration/data/neuromaps/annotations/margulies2016/fcgradient08/fsLR/source-margulies2016_desc-fcgradient08_space-fsLR_den-32k_hemi-L_feature.func.gii', '/home/ftian/storage/projects/MFM_exploration/data/neuromaps/annotations/margulies2016/fcgradient08/fsLR/source-margulies2016_desc-fcgradient08_space-fsLR_den-32k_hemi-R_feature.func.gii']\n",
      "('margulies2016', 'fcgradient09', 'fsLR', '32k') ['/home/ftian/storage/projects/MFM_exploration/data/neuromaps/annotations/margulies2016/fcgradient09/fsLR/source-margulies2016_desc-fcgradient09_space-fsLR_den-32k_hemi-L_feature.func.gii', '/home/ftian/storage/projects/MFM_exploration/data/neuromaps/annotations/margulies2016/fcgradient09/fsLR/source-margulies2016_desc-fcgradient09_space-fsLR_den-32k_hemi-R_feature.func.gii']\n",
      "('margulies2016', 'fcgradient10', 'fsLR', '32k') ['/home/ftian/storage/projects/MFM_exploration/data/neuromaps/annotations/margulies2016/fcgradient10/fsLR/source-margulies2016_desc-fcgradient10_space-fsLR_den-32k_hemi-L_feature.func.gii', '/home/ftian/storage/projects/MFM_exploration/data/neuromaps/annotations/margulies2016/fcgradient10/fsLR/source-margulies2016_desc-fcgradient10_space-fsLR_den-32k_hemi-R_feature.func.gii']\n",
      "('mueller2013', 'intersubjvar', 'fsLR', '164k') ['/home/ftian/storage/projects/MFM_exploration/data/neuromaps/annotations/mueller2013/intersubjvar/fsLR/source-mueller2013_desc-intersubjvar_space-fsLR_den-164k_hemi-L_feature.func.gii', '/home/ftian/storage/projects/MFM_exploration/data/neuromaps/annotations/mueller2013/intersubjvar/fsLR/source-mueller2013_desc-intersubjvar_space-fsLR_den-164k_hemi-R_feature.func.gii']\n",
      "('naganawa2020', 'lsn3172176', 'MNI152', '1mm') /home/ftian/storage/projects/MFM_exploration/data/neuromaps/annotations/naganawa2020/lsn3172176/MNI152/source-naganawa2020_desc-lsn3172176_space-MNI152_res-1mm_feature.nii.gz\n",
      "('neurosynth', 'cogpc1', 'MNI152', '2mm') /home/ftian/storage/projects/MFM_exploration/data/neuromaps/annotations/neurosynth/cogpc1/MNI152/source-neurosynth_desc-cogpc1_space-MNI152_res-2mm_feature.nii.gz\n",
      "('norgaard2021', 'flumazenil', 'MNI152', '1mm') /home/ftian/storage/projects/MFM_exploration/data/neuromaps/annotations/norgaard2021/flumazenil/MNI152/source-norgaard2021_desc-flumazenil_space-MNI152_res-1mm_feature.nii.gz\n",
      "('norgaard2021', 'flumazenil', 'fsaverage', '164k') ['/home/ftian/storage/projects/MFM_exploration/data/neuromaps/annotations/norgaard2021/flumazenil/fsaverage/source-norgaard2021_desc-flumazenil_space-fsaverage_den-164k_hemi-L_feature.func.gii', '/home/ftian/storage/projects/MFM_exploration/data/neuromaps/annotations/norgaard2021/flumazenil/fsaverage/source-norgaard2021_desc-flumazenil_space-fsaverage_den-164k_hemi-R_feature.func.gii']\n",
      "('normandin2015', 'omar', 'MNI152', '1mm') /home/ftian/storage/projects/MFM_exploration/data/neuromaps/annotations/normandin2015/omar/MNI152/source-normandin2015_desc-omar_space-MNI152_res-1mm_feature.nii.gz\n",
      "('radnakrishnan2018', 'gsk215083', 'MNI152', '1mm') /home/ftian/storage/projects/MFM_exploration/data/neuromaps/annotations/radnakrishnan2018/gsk215083/MNI152/source-radnakrishnan2018_desc-gsk215083_space-MNI152_res-1mm_feature.nii.gz\n",
      "('raichle', 'cbf', 'fsLR', '164k') ['/home/ftian/storage/projects/MFM_exploration/data/neuromaps/annotations/raichle/cbf/fsLR/source-raichle_desc-cbf_space-fsLR_den-164k_hemi-L_feature.func.gii', '/home/ftian/storage/projects/MFM_exploration/data/neuromaps/annotations/raichle/cbf/fsLR/source-raichle_desc-cbf_space-fsLR_den-164k_hemi-R_feature.func.gii']\n",
      "('raichle', 'cbv', 'fsLR', '164k') ['/home/ftian/storage/projects/MFM_exploration/data/neuromaps/annotations/raichle/cbv/fsLR/source-raichle_desc-cbv_space-fsLR_den-164k_hemi-L_feature.func.gii', '/home/ftian/storage/projects/MFM_exploration/data/neuromaps/annotations/raichle/cbv/fsLR/source-raichle_desc-cbv_space-fsLR_den-164k_hemi-R_feature.func.gii']\n",
      "('raichle', 'cmr02', 'fsLR', '164k') ['/home/ftian/storage/projects/MFM_exploration/data/neuromaps/annotations/raichle/cmr02/fsLR/source-raichle_desc-cmr02_space-fsLR_den-164k_hemi-L_feature.func.gii', '/home/ftian/storage/projects/MFM_exploration/data/neuromaps/annotations/raichle/cmr02/fsLR/source-raichle_desc-cmr02_space-fsLR_den-164k_hemi-R_feature.func.gii']\n",
      "('raichle', 'cmrglc', 'fsLR', '164k') ['/home/ftian/storage/projects/MFM_exploration/data/neuromaps/annotations/raichle/cmrglc/fsLR/source-raichle_desc-cmrglc_space-fsLR_den-164k_hemi-L_feature.func.gii', '/home/ftian/storage/projects/MFM_exploration/data/neuromaps/annotations/raichle/cmrglc/fsLR/source-raichle_desc-cmrglc_space-fsLR_den-164k_hemi-R_feature.func.gii']\n",
      "('reardon2018', 'scalinghcp', 'civet', '41k') ['/home/ftian/storage/projects/MFM_exploration/data/neuromaps/annotations/reardon2018/scalinghcp/civet/source-reardon2018_desc-scalinghcp_space-civet_den-41k_hemi-L_feature.func.gii', '/home/ftian/storage/projects/MFM_exploration/data/neuromaps/annotations/reardon2018/scalinghcp/civet/source-reardon2018_desc-scalinghcp_space-civet_den-41k_hemi-R_feature.func.gii']\n",
      "('reardon2018', 'scalingnih', 'civet', '41k') ['/home/ftian/storage/projects/MFM_exploration/data/neuromaps/annotations/reardon2018/scalingnih/civet/source-reardon2018_desc-scalingnih_space-civet_den-41k_hemi-L_feature.func.gii', '/home/ftian/storage/projects/MFM_exploration/data/neuromaps/annotations/reardon2018/scalingnih/civet/source-reardon2018_desc-scalingnih_space-civet_den-41k_hemi-R_feature.func.gii']\n",
      "('reardon2018', 'scalingpnc', 'civet', '41k') ['/home/ftian/storage/projects/MFM_exploration/data/neuromaps/annotations/reardon2018/scalingpnc/civet/source-reardon2018_desc-scalingpnc_space-civet_den-41k_hemi-L_feature.func.gii', '/home/ftian/storage/projects/MFM_exploration/data/neuromaps/annotations/reardon2018/scalingpnc/civet/source-reardon2018_desc-scalingpnc_space-civet_den-41k_hemi-R_feature.func.gii']\n",
      "('rosaneto', 'abp688', 'MNI152', '1mm') /home/ftian/storage/projects/MFM_exploration/data/neuromaps/annotations/rosaneto/abp688/MNI152/source-rosaneto_desc-abp688_space-MNI152_res-1mm_feature.nii.gz\n",
      "('sandiego2015', 'flb457', 'MNI152', '1mm') /home/ftian/storage/projects/MFM_exploration/data/neuromaps/annotations/sandiego2015/flb457/MNI152/source-sandiego2015_desc-flb457_space-MNI152_res-1mm_feature.nii.gz\n",
      "('sasaki2012', 'fepe2i', 'MNI152', '1mm') /home/ftian/storage/projects/MFM_exploration/data/neuromaps/annotations/sasaki2012/fepe2i/MNI152/source-sasaki2012_desc-fepe2i_space-MNI152_res-1mm_feature.nii.gz\n",
      "('satterthwaite2014', 'meancbf', 'MNI152', '1mm') /home/ftian/storage/projects/MFM_exploration/data/neuromaps/annotations/satterthwaite2014/meancbf/MNI152/source-satterthwaite2014_desc-meancbf_space-MNI152_res-1mm_feature.nii.gz\n",
      "('savli2012', 'altanserin', 'MNI152', '3mm') /home/ftian/storage/projects/MFM_exploration/data/neuromaps/annotations/savli2012/altanserin/MNI152/source-savli2012_desc-altanserin_space-MNI152_res-3mm_feature.nii.gz\n",
      "('savli2012', 'dasb', 'MNI152', '3mm') /home/ftian/storage/projects/MFM_exploration/data/neuromaps/annotations/savli2012/dasb/MNI152/source-savli2012_desc-dasb_space-MNI152_res-3mm_feature.nii.gz\n",
      "('savli2012', 'p943', 'MNI152', '3mm') /home/ftian/storage/projects/MFM_exploration/data/neuromaps/annotations/savli2012/p943/MNI152/source-savli2012_desc-p943_space-MNI152_res-3mm_feature.nii.gz\n",
      "('savli2012', 'way100635', 'MNI152', '3mm') /home/ftian/storage/projects/MFM_exploration/data/neuromaps/annotations/savli2012/way100635/MNI152/source-savli2012_desc-way100635_space-MNI152_res-3mm_feature.nii.gz\n",
      "('smart2019', 'abp688', 'MNI152', '1mm') /home/ftian/storage/projects/MFM_exploration/data/neuromaps/annotations/smart2019/abp688/MNI152/source-smart2019_desc-abp688_space-MNI152_res-1mm_feature.nii.gz\n",
      "('smith2017', 'flb457', 'MNI152', '1mm') /home/ftian/storage/projects/MFM_exploration/data/neuromaps/annotations/smith2017/flb457/MNI152/source-smith2017_desc-flb457_space-MNI152_res-1mm_feature.nii.gz\n",
      "('sydnor2021', 'SAaxis', 'fsLR', '32k') ['/home/ftian/storage/projects/MFM_exploration/data/neuromaps/annotations/sydnor2021/SAaxis/fsLR/source-sydnor2021_desc-SAaxis_space-fsLR_den-32k_hemi-L_feature.func.gii', '/home/ftian/storage/projects/MFM_exploration/data/neuromaps/annotations/sydnor2021/SAaxis/fsLR/source-sydnor2021_desc-SAaxis_space-fsLR_den-32k_hemi-R_feature.func.gii']\n",
      "('tuominen', 'feobv', 'MNI152', '2mm') /home/ftian/storage/projects/MFM_exploration/data/neuromaps/annotations/tuominen/feobv/MNI152/source-tuominen_desc-feobv_space-MNI152_res-2mm_feature.nii.gz\n",
      "('turtonen2020', 'carfentanil', 'MNI152', '1mm') /home/ftian/storage/projects/MFM_exploration/data/neuromaps/annotations/turtonen2020/carfentanil/MNI152/source-turtonen2020_desc-carfentanil_space-MNI152_res-1mm_feature.nii.gz\n",
      "('vijay2018', 'ly2795050', 'MNI152', '2mm') /home/ftian/storage/projects/MFM_exploration/data/neuromaps/annotations/vijay2018/ly2795050/MNI152/source-vijay2018_desc-ly2795050_space-MNI152_res-2mm_feature.nii.gz\n",
      "('xu2020', 'FChomology', 'fsLR', '32k') ['/home/ftian/storage/projects/MFM_exploration/data/neuromaps/annotations/xu2020/FChomology/fsLR/source-xu2020_desc-FChomology_space-fsLR_den-32k_hemi-R_feature.func.gii', '/home/ftian/storage/projects/MFM_exploration/data/neuromaps/annotations/xu2020/FChomology/fsLR/source-xu2020_desc-FChomology_space-fsLR_den-32k_hemi-L_feature.func.gii']\n",
      "('xu2020', 'evoexp', 'fsLR', '32k') ['/home/ftian/storage/projects/MFM_exploration/data/neuromaps/annotations/xu2020/evoexp/fsLR/source-xu2020_desc-evoexp_space-fsLR_den-32k_hemi-R_feature.func.gii', '/home/ftian/storage/projects/MFM_exploration/data/neuromaps/annotations/xu2020/evoexp/fsLR/source-xu2020_desc-evoexp_space-fsLR_den-32k_hemi-L_feature.func.gii']\n"
     ]
    }
   ],
   "source": [
    "for key, value in annotation.items():\n",
    "    print(key, value)"
   ]
  },
  {
   "cell_type": "code",
   "execution_count": null,
   "metadata": {},
   "outputs": [],
   "source": []
  }
 ],
 "metadata": {
  "kernelspec": {
   "display_name": "MFM_exploration",
   "language": "python",
   "name": "python3"
  },
  "language_info": {
   "codemirror_mode": {
    "name": "ipython",
    "version": 3
   },
   "file_extension": ".py",
   "mimetype": "text/x-python",
   "name": "python",
   "nbconvert_exporter": "python",
   "pygments_lexer": "ipython3",
   "version": "3.11.7"
  }
 },
 "nbformat": 4,
 "nbformat_minor": 2
}
